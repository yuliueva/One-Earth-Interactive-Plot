{
 "cells": [
  {
   "cell_type": "code",
   "execution_count": 1,
   "metadata": {
    "ExecuteTime": {
     "end_time": "2020-11-11T02:44:30.651983Z",
     "start_time": "2020-11-11T02:44:29.990277Z"
    }
   },
   "outputs": [],
   "source": [
    "import plotly.graph_objs as go\n",
    "import pandas as pd\n",
    "import numpy as np\n",
    "import matplotlib.pyplot as plt"
   ]
  },
  {
   "cell_type": "code",
   "execution_count": 2,
   "metadata": {
    "ExecuteTime": {
     "end_time": "2020-11-11T02:44:31.192924Z",
     "start_time": "2020-11-11T02:44:30.654910Z"
    }
   },
   "outputs": [],
   "source": [
    "import dash\n",
    "from jupyter_dash import JupyterDash\n",
    "import dash_core_components as dcc\n",
    "import dash_html_components as html\n",
    "from dash.dependencies import Input, Output\n",
    "import plotly.express as px"
   ]
  },
  {
   "cell_type": "code",
   "execution_count": 3,
   "metadata": {
    "ExecuteTime": {
     "end_time": "2020-11-11T02:44:31.211146Z",
     "start_time": "2020-11-11T02:44:31.195463Z"
    }
   },
   "outputs": [],
   "source": [
    "df=pd.read_csv('World.csv')\n",
    "building=df[(df['Energy Sector']=='Buildings/Others') & (df['Carrier Type']=='Electricity') & (df['Year']==2020)]"
   ]
  },
  {
   "cell_type": "code",
   "execution_count": 4,
   "metadata": {
    "ExecuteTime": {
     "end_time": "2020-11-11T02:44:31.292562Z",
     "start_time": "2020-11-11T02:44:31.213506Z"
    }
   },
   "outputs": [
    {
     "data": {
      "text/html": [
       "\n",
       "        <iframe\n",
       "            width=\"100%\"\n",
       "            height=\"650\"\n",
       "            src=\"http://127.0.0.1:8080/\"\n",
       "            frameborder=\"0\"\n",
       "            allowfullscreen\n",
       "        ></iframe>\n",
       "        "
      ],
      "text/plain": [
       "<IPython.lib.display.IFrame at 0x7febcc199a60>"
      ]
     },
     "metadata": {},
     "output_type": "display_data"
    }
   ],
   "source": [
    "app = JupyterDash(__name__)\n",
    "\n",
    "app.layout = html.Div([\n",
    "    html.Div([\n",
    "        dcc.Graph(id = \"graph2\")\n",
    "        ]),\n",
    "    html.Div([\n",
    "        html.Label(\"Graphs\"), \n",
    "        dcc.Dropdown(\n",
    "            id = \"w_dropdown\",\n",
    "            options=[\n",
    "                         {'label': 'Global Expansion of Renewables to Achieve the 1.5C Goal', 'value': 'data'},\n",
    "                ],\n",
    "            value = \"Total Energy Use\",\n",
    "            multi = False,\n",
    "            clearable = False,\n",
    "            style = {\"width\": \"50%\"}\n",
    "        )\n",
    "        ])\n",
    "])\n",
    "\n",
    "\n",
    "\n",
    "@app.callback(\n",
    "    Output(component_id = \"graph2\", component_property = 'figure'),\n",
    "    [Input(component_id = \"w_dropdown\", component_property = 'value')]\n",
    ")\n",
    "\n",
    "def update_graph(my_dropdown):\n",
    "    import plotly.graph_objs as go\n",
    "    fig = go.Figure()\n",
    "    colors=['rgb(194,224,239)','rgb(102,153,203)','rgb(174,177,183)','rgb(117,125,143)','rgb(234,128,185)','rgb(204,9,109)']\n",
    "    fig=go.Figure()\n",
    "\n",
    "    energys=df['Energy Sector'].unique()\n",
    "    carriers=df['Carrier Type'].unique()  \n",
    "\n",
    "    index=0\n",
    "    plot_data={}\n",
    "    for energy in energys:\n",
    "        for carrier in carriers:\n",
    "            if carrier == 'Electricity':\n",
    "                plot_data[index]=df[(df['Energy Sector']==energy) & (df['Carrier Type']==carrier)]\n",
    "                fig.add_trace(go.Scatter(x=plot_data[index]['Year'],\n",
    "                                        y=plot_data[index]['CumSumEnergy'], \n",
    "                                        name=str(energy+' - '+carrier),\n",
    "                                        mode='none',\n",
    "                                        line=dict(width=0.5, color=colors[index]),\n",
    "\n",
    "                                        fillcolor=colors[index],\n",
    "                                         fill='tonexty',\n",
    "                                         text=round(plot_data[index]['RE Share']*100,1),\n",
    "                                         hovertemplate =\n",
    "                                        '<br><b>'+energy+'</b></b>:<extra></extra>'+\n",
    "                                        '<br><b>Electricity</b></b>'+\n",
    "                                        '<br><b>Year</b>: %{x}'+\n",
    "                                        '<br><b>Demand</b>: %{y}'+\n",
    "                                        '<br><b>Electrification</b>: %{text}%<br>',\n",
    "                                        showlegend = False\n",
    "                                        ))\n",
    "            else:\n",
    "                plot_data[index]=df[(df['Energy Sector']==energy) & (df['Carrier Type']==carrier)]\n",
    "                fig.add_trace(go.Scatter(x=plot_data[index]['Year'],\n",
    "                                        y=plot_data[index]['CumSumEnergy'],\n",
    "                                        name=str(energy+' - '+carrier),\n",
    "                                        mode='none',\n",
    "                                        line=dict(width=0.5, color=colors[index]),\n",
    "\n",
    "                                        fillcolor=colors[index],\n",
    "                                         fill='tonexty',\n",
    "                                         hovertemplate =\n",
    "                                        '<br><b>'+energy+'</b></b>:<extra></extra>'+\n",
    "                                        '<br><b>Year</b>: %{x}'+\n",
    "                                        '<br><b>Demand</b>: %{y}',\n",
    "                                        showlegend = False\n",
    "                                        ))\n",
    "            index+=1\n",
    "\n",
    "    fig.update_yaxes(ticktext=['50,000','100,000','150,000','200,000','250,000','300,000','350,000'],\n",
    "                    tickvals=[50000,100000,150000,200000,250000,300000,350000])\n",
    "\n",
    "    fig.update_layout(\n",
    "        width=1000,\n",
    "        height=800,\n",
    "        plot_bgcolor='rgba(0,0,0,0)')\n",
    "\n",
    "    fig.add_shape(type=\"line\",\n",
    "        x0=2020, y0=0, x1=2020, y1=306000,\n",
    "        line=dict(\n",
    "            color=\"White\",\n",
    "            width=2,\n",
    "            dash=\"dot\"\n",
    "        ))\n",
    "\n",
    "    fig.add_shape(type=\"line\",\n",
    "        x0=2030, y0=0, x1=2030, y1=284145,\n",
    "        line=dict(\n",
    "            color=\"White\",\n",
    "            width=2,\n",
    "            dash=\"dot\"\n",
    "        ))\n",
    "\n",
    "    fig.add_shape(type=\"line\",\n",
    "        x0=2040, y0=0, x1=2040, y1=256844,\n",
    "        line=dict(\n",
    "            color=\"White\",\n",
    "            width=2,\n",
    "            dash=\"dot\"\n",
    "        ))\n",
    "\n",
    "    fig.add_trace(go.Scatter(\n",
    "        x=[2015.4,2015.4,2015.4],\n",
    "        y=[320000, 195000, 80000],\n",
    "        mode=\"text\",\n",
    "        text=[\"Buildings/Other\", 'Industry','Transportation'],\n",
    "        textposition=\"top right\",\n",
    "        textfont=dict(\n",
    "            family=\"Arial\",\n",
    "            size=18,\n",
    "            color=\"white\"),\n",
    "        showlegend = False))\n",
    "\n",
    "    fig.add_trace(go.Scatter(\n",
    "        x=[2015.4,2015.4,2015.4,2015.4,2015.4,2015.4],\n",
    "        y=[310000, 240000, 185000, 117000,70000, 8000],\n",
    "        mode=\"text\",\n",
    "        text=[\"On-site energy\", 'Electric power',\"On-site energy\", 'Electric power',\"On-board fuels\", 'Electric power'],\n",
    "        textposition=\"top right\",\n",
    "        textfont=dict(\n",
    "            family=\"Arial\",\n",
    "            size=14,\n",
    "            color=\"black\"),\n",
    "        showlegend = False))\n",
    "\n",
    "\n",
    "    fig.update_layout(\n",
    "        legend=dict(\n",
    "            title='Energy Sector - Carrier Type',\n",
    "            font=dict(\n",
    "                family=\"Arial\",\n",
    "                size=12,\n",
    "                color=\"black\"\n",
    "            )))\n",
    "\n",
    "    fig.update_layout(\n",
    "        title=dict(\n",
    "            text='<b>Global Eletrification to Achieve the 1.5C Goal</b>',\n",
    "            font=dict(\n",
    "                family=\"Arial\",\n",
    "                size=30,\n",
    "                color=\"black\"\n",
    "            )))\n",
    "\n",
    "    fig.update_layout(\n",
    "        xaxis_title=\"Year\",\n",
    "        yaxis_title=\"Final Energy Demand (PJ)\",\n",
    "        font=dict(\n",
    "                family=\"Arial\",\n",
    "                size=18,\n",
    "                color=\"black\"\n",
    "        ))\n",
    "\n",
    "    fig.show()\n",
    "\n",
    "\n",
    "\n",
    "\n",
    "    return fig\n",
    "\n",
    "\n",
    "if __name__ == '__main__':\n",
    "    app.run_server(debug=True, mode='inline',host=\"127.0.0.1\", port=8080)"
   ]
  }
 ],
 "metadata": {
  "kernelspec": {
   "display_name": "Python 3",
   "language": "python",
   "name": "python3"
  },
  "language_info": {
   "codemirror_mode": {
    "name": "ipython",
    "version": 3
   },
   "file_extension": ".py",
   "mimetype": "text/x-python",
   "name": "python",
   "nbconvert_exporter": "python",
   "pygments_lexer": "ipython3",
   "version": "3.8.3"
  },
  "varInspector": {
   "cols": {
    "lenName": 16,
    "lenType": 16,
    "lenVar": 40
   },
   "kernels_config": {
    "python": {
     "delete_cmd_postfix": "",
     "delete_cmd_prefix": "del ",
     "library": "var_list.py",
     "varRefreshCmd": "print(var_dic_list())"
    },
    "r": {
     "delete_cmd_postfix": ") ",
     "delete_cmd_prefix": "rm(",
     "library": "var_list.r",
     "varRefreshCmd": "cat(var_dic_list()) "
    }
   },
   "types_to_exclude": [
    "module",
    "function",
    "builtin_function_or_method",
    "instance",
    "_Feature"
   ],
   "window_display": false
  }
 },
 "nbformat": 4,
 "nbformat_minor": 4
}
