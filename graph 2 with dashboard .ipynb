{
 "cells": [
  {
   "cell_type": "code",
   "execution_count": 1,
   "metadata": {
    "ExecuteTime": {
     "end_time": "2020-11-11T02:44:46.371022Z",
     "start_time": "2020-11-11T02:44:45.158736Z"
    },
    "id": "2FMYDBnp7C7x"
   },
   "outputs": [],
   "source": [
    "import pandas as pd\n",
    "import dash\n",
    "from jupyter_dash import JupyterDash\n",
    "import dash_core_components as dcc\n",
    "import dash_html_components as html\n",
    "from dash.dependencies import Input, Output\n",
    "import plotly.express as px\n",
    "import plotly.graph_objs as go\n",
    "import numpy as np\n",
    "import matplotlib.pyplot as plt"
   ]
  },
  {
   "cell_type": "code",
   "execution_count": 2,
   "metadata": {
    "ExecuteTime": {
     "end_time": "2020-11-11T02:44:46.661260Z",
     "start_time": "2020-11-11T02:44:46.373580Z"
    },
    "id": "8hr0Nvg3l6CT"
   },
   "outputs": [],
   "source": [
    "df = pd.read_excel(\"DLR scenario data-WORLD.xlsx\", sheet_name = \"Final energy demand 1.5C\")\n",
    "data = df.iloc[89:117,2:12]\n",
    "data = data.drop(columns = ['Unnamed: 3'], axis = 1).reset_index(drop = True)\n",
    "data = data.drop(data.index[5]).drop(data.index[16]).drop(data.index[23]).\\\n",
    "        drop(data.index[0]).drop(data.index[6]).drop(data.index[17]).\\\n",
    "        drop(data.index[24]).drop(data.index[1]).reset_index(drop = True)"
   ]
  },
  {
   "cell_type": "code",
   "execution_count": 3,
   "metadata": {
    "ExecuteTime": {
     "end_time": "2020-11-11T02:44:46.670486Z",
     "start_time": "2020-11-11T02:44:46.664149Z"
    },
    "id": "8RaDl3OZphhM"
   },
   "outputs": [],
   "source": [
    "data = data.rename(columns={'Unnamed: 2':'Carriers',\n",
    "                     'Unnamed: 4':'2015',\n",
    "                     'Unnamed: 5':'2020',\n",
    "                     'Unnamed: 6':'2025',\n",
    "                     'Unnamed: 7':'2030',\n",
    "                     'Unnamed: 8':'2035', \n",
    "                     'Unnamed: 9':'2040', \n",
    "                     'Unnamed: 10':'2045', \n",
    "                     'Unnamed: 11':'2050'})"
   ]
  },
  {
   "cell_type": "code",
   "execution_count": 4,
   "metadata": {
    "ExecuteTime": {
     "end_time": "2020-11-11T02:44:46.681689Z",
     "start_time": "2020-11-11T02:44:46.673697Z"
    },
    "id": "iEwL3qMQwUD2"
   },
   "outputs": [],
   "source": [
    "data['Carriers'] = data['Carriers'].map(lambda x: x.lstrip('  - '))\n",
    "data = data.set_index(['Carriers'], drop = True)"
   ]
  },
  {
   "cell_type": "code",
   "execution_count": 5,
   "metadata": {
    "ExecuteTime": {
     "end_time": "2020-11-11T02:44:46.702598Z",
     "start_time": "2020-11-11T02:44:46.684908Z"
    },
    "colab": {
     "base_uri": "https://localhost:8080/",
     "height": 890
    },
    "executionInfo": {
     "elapsed": 524,
     "status": "ok",
     "timestamp": 1604948703494,
     "user": {
      "displayName": "Rae Wang",
      "photoUrl": "",
      "userId": "17579311761382190982"
     },
     "user_tz": 480
    },
    "id": "q-ujV6S7xZzN",
    "outputId": "fecb3d1b-e374-424d-ccf5-d6b4fa961d8e"
   },
   "outputs": [],
   "source": [
    "FFs = ['Coal & Lignite', 'Gas', 'Oil & Diesel']\n",
    "Power = ['Nuclear', 'Hydrogen Power',\n",
    "       'Hydro Power', 'Wind', 'PV', 'Biomass Power', 'Geothermal Power',\n",
    "       'Solar thermal power plants', 'Ocean energy']\n",
    "OtherHeat = ['Solar Heat', 'Biomass',\n",
    "       'Geothermal', 'H Process', 'RE district heat', 'Biofuels ', 'Synfuels',\n",
    "       'H Fuel']\n",
    "for i in data.index:\n",
    "    if i in FFs:\n",
    "        data.loc[i,'Carrier_Type'] = \"FFs\"\n",
    "    elif i in Power:\n",
    "        data.loc[i,'Carrier_Type'] = \"Power\"\n",
    "    else:\n",
    "        data.loc[i,'Carrier_Type'] = \"Other Heat\""
   ]
  },
  {
   "cell_type": "code",
   "execution_count": 6,
   "metadata": {
    "ExecuteTime": {
     "end_time": "2020-11-11T02:44:46.725320Z",
     "start_time": "2020-11-11T02:44:46.707879Z"
    },
    "colab": {
     "base_uri": "https://localhost:8080/",
     "height": 419
    },
    "executionInfo": {
     "elapsed": 496,
     "status": "ok",
     "timestamp": 1604948714846,
     "user": {
      "displayName": "Rae Wang",
      "photoUrl": "",
      "userId": "17579311761382190982"
     },
     "user_tz": 480
    },
    "id": "ZNFofId-wiXz",
    "outputId": "fa926980-d8e1-4b57-a3e1-4c69d28cf73f"
   },
   "outputs": [],
   "source": [
    "year = []\n",
    "total_energy_use = []\n",
    "carrier = []\n",
    "carrier_type = []\n",
    "\n",
    "\n",
    "for i in range(data.shape[0]): #row\n",
    "    for j in range(data.shape[1]-1): #column\n",
    "        total_energy_use.append(data.iloc[i,j]) \n",
    "        carrier.append(data.index[i]) \n",
    "        year.append(data.columns[j]) \n",
    "        carrier_type.append(data.iloc[i,8])\n",
    "          \n",
    "\n",
    "data_cleaned = pd.DataFrame(data = year, columns = [\"Year\"])\n",
    "data_cleaned[\"Carrier Type\"] = carrier_type\n",
    "data_cleaned[\"Carrier\"] = carrier\n",
    "data_cleaned[\"Total Energy Use\"] = total_energy_use"
   ]
  },
  {
   "cell_type": "code",
   "execution_count": 7,
   "metadata": {
    "ExecuteTime": {
     "end_time": "2020-11-11T02:44:46.740267Z",
     "start_time": "2020-11-11T02:44:46.730304Z"
    },
    "colab": {
     "base_uri": "https://localhost:8080/",
     "height": 419
    },
    "executionInfo": {
     "elapsed": 398,
     "status": "ok",
     "timestamp": 1604948774209,
     "user": {
      "displayName": "Rae Wang",
      "photoUrl": "",
      "userId": "17579311761382190982"
     },
     "user_tz": 480
    },
    "id": "zXcDduha4xax",
    "outputId": "176bc847-04c1-4336-8cbd-4cdb2de51a7a"
   },
   "outputs": [],
   "source": [
    "data_cleaned['Percent'] = data_cleaned['Total Energy Use'].map(lambda x: x/sum(data_cleaned['Total Energy Use']))"
   ]
  },
  {
   "cell_type": "code",
   "execution_count": 8,
   "metadata": {
    "ExecuteTime": {
     "end_time": "2020-11-11T02:44:46.760338Z",
     "start_time": "2020-11-11T02:44:46.745956Z"
    }
   },
   "outputs": [],
   "source": [
    "sequence = ['PV','Solar thermal power plants','Biomass Power','Wind','Ocean energy', \n",
    "            'Hydrogen Power','Hydro Power', 'Geothermal Power','Nuclear','Gas',\n",
    "            'Coal & Lignite', 'Oil & Diesel','Solar Heat','Biomass','Geothermal',\n",
    "           'H Process', 'RE district heat', 'H Fuel', 'Synfuels','Biofuels ' ]\n",
    "\n",
    "data_sequence = []\n",
    "for i in range(len(data_cleaned['Carrier'])):\n",
    "    if data_cleaned['Carrier'][i] in sequence:\n",
    "        data_sequence.append(sequence.index(data_cleaned['Carrier'][i]))\n",
    "data_cleaned[\"Sequence\"]=data_sequence\n",
    "data_cleaned = data_cleaned.sort_values(by=\"Sequence\")"
   ]
  },
  {
   "cell_type": "code",
   "execution_count": 9,
   "metadata": {
    "ExecuteTime": {
     "end_time": "2020-11-11T02:44:46.774581Z",
     "start_time": "2020-11-11T02:44:46.762994Z"
    },
    "executionInfo": {
     "elapsed": 477,
     "status": "ok",
     "timestamp": 1604948960639,
     "user": {
      "displayName": "Rae Wang",
      "photoUrl": "",
      "userId": "17579311761382190982"
     },
     "user_tz": 480
    },
    "id": "7C3-7XWgzp0Y"
   },
   "outputs": [],
   "source": [
    "cleaned_Final_Energy_Demand = data_cleaned.to_csv(r'C:\\Users\\wangr\\Desktop\\cleaned_FINAL_Energy_Demand_1.5C.csv', index = False)"
   ]
  },
  {
   "cell_type": "code",
   "execution_count": 10,
   "metadata": {
    "ExecuteTime": {
     "end_time": "2020-11-11T02:44:46.798963Z",
     "start_time": "2020-11-11T02:44:46.778396Z"
    }
   },
   "outputs": [],
   "source": [
    "a=data_cleaned.groupby(['Carrier','Year']).agg({'Total Energy Use':'sum', 'Percent':'sum'})\n",
    "a.reset_index()\n",
    "a=a.reset_index(level='Year')"
   ]
  },
  {
   "cell_type": "code",
   "execution_count": 11,
   "metadata": {
    "ExecuteTime": {
     "end_time": "2020-11-11T02:44:46.811887Z",
     "start_time": "2020-11-11T02:44:46.804412Z"
    }
   },
   "outputs": [],
   "source": [
    "sources=data_cleaned['Carrier'].unique()"
   ]
  },
  {
   "cell_type": "code",
   "execution_count": 12,
   "metadata": {
    "ExecuteTime": {
     "end_time": "2020-11-11T02:44:46.827957Z",
     "start_time": "2020-11-11T02:44:46.818008Z"
    }
   },
   "outputs": [],
   "source": [
    "colors={'PV':'rgb(251,173,60)','Solar thermal power plants':'rgb(236,112,20)','Biomass Power':'rgb(113,50,141)',\n",
    "        'Wind':'rgb(68,130,155)','Ocean energy':'rgb(2,56,88)','Hydro Power':'rgb(15,71,153)',\n",
    "        'Geothermal Power':'rgb(0,109,44)','Hydrogen Power':'rgb(255,0,0)','Nuclear':'rgb(217,217,217)',\n",
    "        'Gas':'rgb(150,150,150)','Coal & Lignite':'rgb(82,82,82)','Oil & Diesel':'rgb(0,0,0)',\n",
    "        'Solar Heat':'rgb(255,111,0)','Biomass':'rgb(0,109,44)','Geothermal':'rgb(113,50,141)',\n",
    "        'H Process':'rgb(255,0,0)','RE district heat':'rgb(166,54,3)','H Fuel':'rgb(223,101,176)',\n",
    "       'Synfuels': 'rgb(68,130,155)','Biofuels ':'rgb(127,205,187)'}"
   ]
  },
  {
   "cell_type": "code",
   "execution_count": 13,
   "metadata": {
    "ExecuteTime": {
     "end_time": "2020-11-11T02:44:47.064123Z",
     "start_time": "2020-11-11T02:44:46.830933Z"
    },
    "scrolled": false
   },
   "outputs": [
    {
     "data": {
      "text/html": [
       "\n",
       "        <iframe\n",
       "            width=\"100%\"\n",
       "            height=\"650\"\n",
       "            src=\"http://127.0.0.1:8090/\"\n",
       "            frameborder=\"0\"\n",
       "            allowfullscreen\n",
       "        ></iframe>\n",
       "        "
      ],
      "text/plain": [
       "<IPython.lib.display.IFrame at 0x7fee26af9a00>"
      ]
     },
     "metadata": {},
     "output_type": "display_data"
    }
   ],
   "source": [
    "app = JupyterDash(__name__)\n",
    "\n",
    "app.layout = html.Div([\n",
    "    html.Div([\n",
    "        dcc.Graph(id = \"graph2\")\n",
    "        ]),\n",
    "    html.Div([\n",
    "        html.Label(\"Graphs\"), \n",
    "        dcc.Dropdown(\n",
    "            id = \"w_dropdown\",\n",
    "            options=[\n",
    "                         {'label': 'Global Expansion of Renewables to Achieve the 1.5C Goal', 'value': 'data'},\n",
    "                ],\n",
    "            value = \"Total Energy Use\",\n",
    "            multi = False,\n",
    "            clearable = False,\n",
    "            style = {\"width\": \"50%\"}\n",
    "        )\n",
    "        ])\n",
    "])\n",
    "\n",
    "\n",
    "\n",
    "@app.callback(\n",
    "    Output(component_id = \"graph2\", component_property = 'figure'),\n",
    "    [Input(component_id = \"w_dropdown\", component_property = 'value')]\n",
    ")\n",
    "\n",
    "def update_graph(my_dropdown):\n",
    "    import plotly.graph_objs as go\n",
    "    fig = go.Figure()\n",
    "    for source in sources:   \n",
    "    \n",
    "        data = a.loc[source,{'Year','Total Energy Use','Percent'}].reset_index()\n",
    "        fig.add_trace(go.Scatter(x = a.loc[source,'Year'],\n",
    "                        y =a.loc[source,'Total Energy Use'],\n",
    "                                 mode=\"none\",\n",
    "                        fillcolor=colors[source],\n",
    "                                text=round(a.loc[source,'Percent']*100,2),\n",
    "                                         hovertemplate =\n",
    "                                        '<br><b>'+source+'</b></b>:<extra></extra>'+\n",
    "                                        '<br><b>Electricity</b></b>'+\n",
    "                                        '<br><b>Year</b>: %{x}'+\n",
    "                                        '<br><b>Demand</b>: %{y}'+\n",
    "                                        '<br><b>Electrification</b>: %{text}%<br>',        \n",
    "                        name = source,\n",
    "                        stackgroup='one'))\n",
    "\n",
    "    fig.add_shape(type=\"line\",\n",
    "                x0=2020, y0=0, x1=2020, y1=330000,\n",
    "                line=dict(color='lightgrey',width=0.3,dash=\"dash\"))\n",
    "\n",
    "    fig.add_shape(type=\"line\",\n",
    "                x0=2030, y0=0, x1=2030, y1=300000,\n",
    "                line=dict(color='lightgrey',width=0.3,dash=\"dash\"))\n",
    "\n",
    "    fig.add_shape(type=\"line\",\n",
    "                x0=2040, y0=0, x1=2040, y1=260000,\n",
    "                line=dict(color='lightgrey',width=0.3,dash=\"dash\"))\n",
    "\n",
    "    fig.add_trace(go.Scatter(\n",
    "    x=[2015.5,2015.5,2015.5,2015.5],\n",
    "    y=[21000, 90000, 160000, 285000],\n",
    "    mode=\"text\",\n",
    "    text=[\"Nuclear\", 'Gas','Coal','Oil'],\n",
    "    textposition=\"top right\",\n",
    "    textfont=dict(\n",
    "        family=\"Arial\",\n",
    "        size=12,\n",
    "        color=\"white\")))\n",
    "\n",
    "    fig.add_trace(go.Scatter(\n",
    "    x=[2049.5,2049.5,2049.5,2049.5,2049.5,2049.5,2049.5,2049.5, 2049.5,2049.5],\n",
    "    y=[4000, 50000, 70000, 123500, 150000, 172000,198000,211000, 222000, 240000],\n",
    "    mode=\"text\",\n",
    "    text=[\"Solar PV\", 'Solar CSP','Wind','Hydro','Solar Heat', 'Biomass', 'Geothermal','Hydrogen', 'RE District','RE Fuels'],\n",
    "    textposition=\"top left\",\n",
    "    textfont=dict(\n",
    "        family=\"Arial\",\n",
    "        size=12,\n",
    "        color=\"white\")))\n",
    "\n",
    "    fig.update_yaxes(ticktext=['50,000','100,000','150,000','200,000','250,000','300,000','350,000'],\n",
    "                tickvals=[50000,100000,150000,200000,250000,300000,350000])\n",
    "\n",
    "    fig.update_layout(title = 'Global Expansion of Renewables to Achieve the 1.5C Goal',\n",
    "                      font=dict(family=\"Arial\", size=15, color=\"black\"),\n",
    "                 xaxis = dict(showgrid=False),\n",
    "                 yaxis = dict(title = 'Final Energy Demand (PJ)',showgrid=False),\n",
    "                 width=1000,\n",
    "                 height=800,\n",
    "                 plot_bgcolor='white',\n",
    "                showlegend=False\n",
    "                     )\n",
    "\n",
    "    fig.show()\n",
    "\n",
    "\n",
    "    return fig\n",
    "\n",
    "\n",
    "if __name__ == '__main__':\n",
    "    app.run_server(debug=True, mode='inline',host=\"127.0.0.1\", port=8090)"
   ]
  }
 ],
 "metadata": {
  "colab": {
   "authorship_tag": "ABX9TyPpVFCP8rX1RJ/aTJ3+vkLm",
   "name": "Data Cleaning - Final_Energy_Demand_1.5C.ipynb",
   "provenance": []
  },
  "kernelspec": {
   "display_name": "Python 3",
   "language": "python",
   "name": "python3"
  },
  "language_info": {
   "codemirror_mode": {
    "name": "ipython",
    "version": 3
   },
   "file_extension": ".py",
   "mimetype": "text/x-python",
   "name": "python",
   "nbconvert_exporter": "python",
   "pygments_lexer": "ipython3",
   "version": "3.8.3"
  },
  "varInspector": {
   "cols": {
    "lenName": 16,
    "lenType": 16,
    "lenVar": 40
   },
   "kernels_config": {
    "python": {
     "delete_cmd_postfix": "",
     "delete_cmd_prefix": "del ",
     "library": "var_list.py",
     "varRefreshCmd": "print(var_dic_list())"
    },
    "r": {
     "delete_cmd_postfix": ") ",
     "delete_cmd_prefix": "rm(",
     "library": "var_list.r",
     "varRefreshCmd": "cat(var_dic_list()) "
    }
   },
   "types_to_exclude": [
    "module",
    "function",
    "builtin_function_or_method",
    "instance",
    "_Feature"
   ],
   "window_display": false
  }
 },
 "nbformat": 4,
 "nbformat_minor": 1
}
